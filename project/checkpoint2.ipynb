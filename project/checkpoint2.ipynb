{
 "cells": [
  {
   "cell_type": "markdown",
   "metadata": {},
   "source": [
    "# Project Check-in 2 DS 6600 Data Engineering and Visualization"
   ]
  },
  {
   "cell_type": "markdown",
   "metadata": {},
   "source": [
    "## 1. Report:"
   ]
  },
  {
   "cell_type": "markdown",
   "metadata": {},
   "source": [
    "I have made decent progress on my project as of this point, I have written out a decent python helper module very similarly to the code we are writing in class to interact with the Steam API. I can gather general information about individual games as well as information pertaining to individual players and the games they own/play. I have written a few functions to scrape web endpoints including a very cool one that effectively allows me to search for steam users using their search function which is not an offered API. This required use of selenium to simulate a browser environment with running javascript. I have also designed a database schema and will be using MySQL as my database of choice for this project. My next step will be to populate this database with all games, their achievements, and current player counts. The user specific data will be input on an ad-hoc pace as I hope to include functionality for a simple search system to search for users and view their game data. I hope for the final product to be a simple search scenario where you can search for a user and find information about what games they own and look at their stats for those games."
   ]
  },
  {
   "cell_type": "markdown",
   "metadata": {},
   "source": [
    "## 2. Data"
   ]
  },
  {
   "cell_type": "markdown",
   "metadata": {},
   "source": [
    "Though much of the data is available through Steam's public API (provided you have an API key) I still had to employ some small workarounds for specific endpoints. The search endpoint for example uses javascript to populate the search results which will not be present in a standard HTTP response. This required use of the Selenium python module which actually executes a browser that performs the request and if you wait long enough executes the javascript. This allowed me to essentially wrap Steam's user search endpoints so my app can include user searching. Otherwise most data was available through the API or through some relatively simple scraping using BeautifulSoup just like in class. "
   ]
  },
  {
   "cell_type": "markdown",
   "metadata": {},
   "source": [
    "## 3. Database Documentation and Visualization:"
   ]
  },
  {
   "cell_type": "markdown",
   "metadata": {},
   "source": [
    "I am currently using MySQL as my database of choice for this project but am still potentially considering a transition to MongoDB considering the JSON layout of the data returned by most of my API requests. This will be decided soon after this check-point but regardless the provided schema will still be adhered to. Here is the information defining my database schema in a .dbml file:"
   ]
  },
  {
   "cell_type": "raw",
   "metadata": {
    "vscode": {
     "languageId": "raw"
    }
   },
   "source": [
    "Project SteamSchema {\n",
    "  database_type: \"MySQL\" // Specifies the type of database used (MySQL).\n",
    "}\n",
    "\n",
    "// Games table stores the primary details about games.\n",
    "Table Games {\n",
    "  id              int [primary key] // Steam App ID, a unique identifier for each game in Steam's catalog.\n",
    "  name            varchar // Name of the game.\n",
    "  type            varchar // Game type or category (e.g., action, strategy).\n",
    "  price_initial   int // Initial price of the game in the smallest currency unit (e.g., cents).\n",
    "  price_final     int // Final price after any discounts, in the smallest currency unit.\n",
    "  currency        varchar // Currency code (e.g., USD, EUR).\n",
    "  tiny_image      varchar // URL or path to a small-sized image representing the game.\n",
    "  metascore       int // Metascore rating (aggregated game review score).\n",
    "  platforms_windows boolean // Indicates if the game is available on Windows (true/false).\n",
    "  platforms_mac    boolean // Indicates if the game is available on macOS (true/false).\n",
    "  platforms_linux  boolean // Indicates if the game is available on Linux (true/false).\n",
    "  streamingvideo   boolean // Indicates if the game has streaming video support (true/false).\n",
    "  controller_support varchar // Indicates controller support level (e.g., \"full\", \"partial\", \"none\").\n",
    "\n",
    "  indexes {\n",
    "    id [unique] // Ensures that the Steam App ID is unique across all records.\n",
    "  }\n",
    "}\n",
    "\n",
    "// Achievements table stores achievements for each game.\n",
    "Table Achievements {\n",
    "  id              serial [primary key] // Auto-incremented unique identifier for each achievement record.\n",
    "  app_id          int [not null, ref: > Games.id] // References the associated game's ID.\n",
    "  name            varchar // Name of the achievement.\n",
    "  percent         float // Percentage of players who unlocked this achievement.\n",
    "\n",
    "  indexes {\n",
    "    app_id // Index for faster lookup of achievements by game ID.\n",
    "  }\n",
    "}\n",
    "\n",
    "// PlayerCounts table stores player count information for each game.\n",
    "Table PlayerCounts {\n",
    "  id                serial [primary key] // Auto-incremented unique identifier for each player count record.\n",
    "  app_id            int [not null, ref: > Games.id] // References the associated game's ID.\n",
    "  current_player_count int // Number of players currently active in the game.\n",
    "\n",
    "  indexes {\n",
    "    app_id // Index for faster lookup of player counts by game ID.\n",
    "  }\n",
    "}\n",
    "\n",
    "// Users table stores information about users.\n",
    "Table Users {\n",
    "  id              varchar [primary key] // User's unique Steam profile ID.\n",
    "  display_name    varchar // Display name of the user.\n",
    "  profile_url     varchar // URL to the user's Steam profile page.\n",
    "\n",
    "  indexes {\n",
    "    id [unique] // Ensures that each user's ID is unique.\n",
    "  }\n",
    "}\n",
    "\n",
    "// UserOwnedGames table stores games owned by a user.\n",
    "Table UserOwnedGames {\n",
    "  id              serial [primary key] // Auto-incremented unique identifier for each record.\n",
    "  user_id         varchar [not null, ref: > Users.id] // References the associated user's ID.\n",
    "  app_id          int [not null, ref: > Games.id] // References the associated game's ID.\n",
    "  playtime_forever int // Total playtime for the game in minutes.\n",
    "  playtime_2weeks  int // Playtime in the last two weeks, in minutes.\n",
    "\n",
    "  indexes {\n",
    "    user_id // Index for faster lookup of games by user ID.\n",
    "    app_id  // Index for faster lookup of users by game ID.\n",
    "  }\n",
    "}\n",
    "\n",
    "// UserGameStatistics table stores per-game statistics for users.\n",
    "Table UserGameStatistics {\n",
    "  id              serial [primary key] // Auto-incremented unique identifier for each record.\n",
    "  user_id         varchar [not null, ref: > Users.id] // References the associated user's ID.\n",
    "  app_id          int [not null, ref: > Games.id] // References the associated game's ID.\n",
    "  stat_name       varchar // Name of the statistic (e.g., \"kills\", \"wins\").\n",
    "  stat_value      int // Value of the statistic.\n",
    "\n",
    "  indexes {\n",
    "    user_id // Index for faster lookup of statistics by user ID.\n",
    "    app_id  // Index for faster lookup of statistics by game ID.\n",
    "  }\n",
    "}\n",
    "\n",
    "// UserAchievementStatistics table stores user achievements for games.\n",
    "Table UserAchievementStatistics {\n",
    "  id              serial [primary key] // Auto-incremented unique identifier for each record.\n",
    "  user_id         varchar [not null, ref: > Users.id] // References the associated user's ID.\n",
    "  app_id          int [not null, ref: > Games.id] // References the associated game's ID.\n",
    "  achievement_name varchar // Name of the achievement.\n",
    "  achieved        boolean // Whether the user has unlocked the achievement (true/false).\n",
    "\n",
    "  indexes {\n",
    "    user_id // Index for faster lookup of achievements by user ID.\n",
    "    app_id  // Index for faster lookup of achievements by game ID.\n",
    "  }\n",
    "}\n"
   ]
  },
  {
   "cell_type": "markdown",
   "metadata": {},
   "source": [
    "And here is a link to the E-R Diagram: [DBDocs](https://dbdocs.io/wloving77/SteamSchema?view=relationships) \n",
    "\n",
    "And here is a link to the Github Repository containing my code: [Github](https://github.com/wloving77/ds6600_project)"
   ]
  },
  {
   "cell_type": "markdown",
   "metadata": {},
   "source": [
    "## 4. Use of Generative AI"
   ]
  },
  {
   "cell_type": "markdown",
   "metadata": {},
   "source": [
    "Similar to our use of Generative AI in class, I used chatGPT and Codeium for this project, not for any of the writing portions but for building out the application and aiding in resolving any roadblocks encountered while developing. It has been very useful and helpful!"
   ]
  }
 ],
 "metadata": {
  "language_info": {
   "name": "python"
  }
 },
 "nbformat": 4,
 "nbformat_minor": 2
}
