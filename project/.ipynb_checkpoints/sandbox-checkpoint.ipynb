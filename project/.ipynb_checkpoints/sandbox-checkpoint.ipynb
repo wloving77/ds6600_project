{
 "cells": [
  {
   "cell_type": "code",
   "execution_count": 7,
   "id": "15c7abab-8637-4b7d-8108-27e949c8cc6c",
   "metadata": {},
   "outputs": [
    {
     "name": "stdout",
     "output_type": "stream",
     "text": [
      "The autoreload extension is already loaded. To reload it, use:\n",
      "  %reload_ext autoreload\n"
     ]
    }
   ],
   "source": [
    "%load_ext autoreload\n",
    "%autoreload 2"
   ]
  },
  {
   "cell_type": "code",
   "execution_count": 8,
   "id": "9cf49c87-dae1-4b7b-afee-fa93edc95fc5",
   "metadata": {},
   "outputs": [],
   "source": [
    "import pandas as pd\n",
    "from helpers.api import APIHelper"
   ]
  },
  {
   "cell_type": "code",
   "execution_count": 9,
   "id": "4b8aa0c0-3f79-4c5c-8647-cadfee1af232",
   "metadata": {},
   "outputs": [],
   "source": [
    "api = APIHelper()"
   ]
  },
  {
   "cell_type": "code",
   "execution_count": 16,
   "id": "ca83e20a-8ab9-4895-ac65-aa9a7da983d8",
   "metadata": {},
   "outputs": [],
   "source": [
    "r = api.getGameStatistics(816090)"
   ]
  },
  {
   "cell_type": "code",
   "execution_count": 17,
   "id": "c09045d7-8c1c-43df-8b7a-062b1e8094e3",
   "metadata": {},
   "outputs": [
    {
     "data": {
      "text/plain": [
       "{'achievementpercentages': {'achievements': [{'name': 'SHDW_SOLO_PSYGATE',\n",
       "    'percent': 79.4000015258789},\n",
       "   {'name': 'SHDW_BOTH_DESTROYEDDOOR', 'percent': 78.5},\n",
       "   {'name': 'SHDW_BOTH_HACKEDDOOR', 'percent': 69.80000305175781},\n",
       "   {'name': 'SHDW_BOTH_STALKER', 'percent': 65.69999694824219},\n",
       "   {'name': 'SHDW_BOTH_WARRIOR', 'percent': 64.69999694824219},\n",
       "   {'name': 'SHDW_BOTH_PSYHYBRID', 'percent': 61.900001525878906},\n",
       "   {'name': 'SHDW_BOTH_ASSAULT', 'percent': 55},\n",
       "   {'name': 'SHDW_BOTH_BROODLORD', 'percent': 45},\n",
       "   {'name': 'SHDW_BOTH_FORCHAPTER', 'percent': 44.5},\n",
       "   {'name': 'SHDW_SOLO_INFERNO', 'percent': 25.200000762939453},\n",
       "   {'name': 'SHDW_SOLO_NOPSYGATE', 'percent': 17.700000762939453},\n",
       "   {'name': 'SHDW_MULTI_BROTHERINARMS', 'percent': 6.800000190734863},\n",
       "   {'name': 'SHDW_SOLO_VORTEX', 'percent': 5.199999809265137},\n",
       "   {'name': 'SHDW_SOLO_PSYBRANCHCOMPLETE', 'percent': 4},\n",
       "   {'name': 'SHDW_SOLO_COMMANDEMENTBRANCHCOMPLETE',\n",
       "    'percent': 3.4000000953674316},\n",
       "   {'name': 'SHDW_SOLO_DEVOTIONBRANCHCOMPLETE', 'percent': 2.200000047683716},\n",
       "   {'name': 'SHDW_BOTH_FORHONOUR', 'percent': 1.7000000476837158},\n",
       "   {'name': 'SHDW_SOLO_RELICCOUNT', 'percent': 1.100000023841858},\n",
       "   {'name': 'SHDW_MULTI_APOTHECARY', 'percent': 0.5},\n",
       "   {'name': 'SHDW_MULTI_HEAVY', 'percent': 0.5},\n",
       "   {'name': 'SHDW_MULTI_ASSAULT', 'percent': 0.4000000059604645},\n",
       "   {'name': 'SHDW_MULTI_TACTIC', 'percent': 0.4000000059604645},\n",
       "   {'name': 'SHDW_MULTI_LIBRARIAN', 'percent': 0.4000000059604645}]}}"
      ]
     },
     "execution_count": 17,
     "metadata": {},
     "output_type": "execute_result"
    }
   ],
   "source": [
    "r"
   ]
  },
  {
   "cell_type": "code",
   "execution_count": null,
   "id": "a946af17-633a-4005-bd5b-eac29cb049dd",
   "metadata": {},
   "outputs": [],
   "source": []
  }
 ],
 "metadata": {
  "kernelspec": {
   "display_name": "Python 3 (ipykernel)",
   "language": "python",
   "name": "python3"
  },
  "language_info": {
   "codemirror_mode": {
    "name": "ipython",
    "version": 3
   },
   "file_extension": ".py",
   "mimetype": "text/x-python",
   "name": "python",
   "nbconvert_exporter": "python",
   "pygments_lexer": "ipython3",
   "version": "3.10.13"
  }
 },
 "nbformat": 4,
 "nbformat_minor": 5
}
