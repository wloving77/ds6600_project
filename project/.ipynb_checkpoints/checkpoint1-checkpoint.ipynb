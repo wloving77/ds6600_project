{
 "cells": [
  {
   "cell_type": "markdown",
   "id": "6b9bd80f-2b30-49f7-8612-e745391af7f2",
   "metadata": {},
   "source": [
    "# Introduction:"
   ]
  },
  {
   "cell_type": "markdown",
   "id": "4e2da278-5198-4e46-8ec1-cee006fc54f5",
   "metadata": {},
   "source": [
    "My DS6600 course project will be a dashboard application that leverages Steam's Web API, the PC video game vendor, to provide information about games, including statistics, player counts, and details about the users who play those games. All this data will be organized into a dashboard that allows seamless navigation between games and enables users to view their own statistics for any game. This will be achieved using Steam's Web API—without requiring an API key for game-level data, but with an API key for user-specific data.\n",
    "\n",
    "The purpose of this project is to gain experience working with REST APIs and to design useful Python modules that accelerate development and improve overall convenience. Additionally, I aim to become more adept at navigating complex datasets and generalizing implementations across varying data structures. I anticipate challenges in generalizing achievement names, as these vary between games, and in handling edge cases where games have few players or no achievements. I also plan to continue exploring additional Steam API endpoints to theorize new possibilities for the dashboard."
   ]
  },
  {
   "cell_type": "markdown",
   "id": "bcd97a85-3dca-4c16-b107-cefb9135bc5a",
   "metadata": {},
   "source": [
    "# Background"
   ]
  },
  {
   "cell_type": "markdown",
   "id": "96664122-6715-4942-b060-2a284d29f81e",
   "metadata": {},
   "source": [
    "The data is all currently held on Steam's servers and must be accessed using their publicly available API endpoints. There isn't necessarily a large corpus of available research and public articles to lean on but there are other websites that utilize Steams API in similar ways. \n",
    "\n",
    "Websites like:\n",
    "\n",
    "[SteamCharts](https://steamcharts.com/) For Game Player Count Information\n",
    "\n",
    "[SteamDB](https://steamdb.info/) For Any General Steam Game Information\n",
    "\n",
    "[CSGOLIS](https://csgolis.com/) For Automatically Calculating Value of CSGO Inventories"
   ]
  },
  {
   "cell_type": "markdown",
   "id": "357848cb-6854-45aa-ad5e-7ee1926fbdb6",
   "metadata": {},
   "source": [
    "# Data"
   ]
  },
  {
   "cell_type": "markdown",
   "id": "5abfdc27-6735-4398-bc28-76b26103eb3d",
   "metadata": {},
   "source": [
    "My primary source of data for this project will be through the Steam publicly available web API. There are countless potential endpoints to explore that provide both user specific data and game specific data so the potential applications of analysis and ML bountiful. Below I will provide two example endpoints that return data pertaining to the new Warhammer 40K: Space Marine 2 game that released on Steam a few weeks ago.\n",
    "\n",
    "[Global Game Achievement Data](https://api.steampowered.com/ISteamUserStats/GetGlobalAchievementPercentagesForApp/v2/?gameid=2183900) (Warhammer 40K: Space Marine 2)\n",
    "\n",
    "[Global Game Player Count](https://api.steampowered.com/ISteamUserStats/GetNumberOfCurrentPlayers/v1/?appid=2183900&count=1) (Warhammer 40K: Space Marine 2) \n",
    "\n",
    "The licensing for the Steam API can be found below: \n",
    "\n",
    "[Steam Web API TOS](https://steamcommunity.com/dev/apiterms)"
   ]
  },
  {
   "cell_type": "markdown",
   "id": "74d7a2d5-3af6-4d15-8579-e78656045392",
   "metadata": {},
   "source": [
    "# Analysis"
   ]
  },
  {
   "cell_type": "markdown",
   "id": "1b59cf9d-430c-45e7-b9ec-275a22189646",
   "metadata": {},
   "source": [
    "When it comes to analyzing and utilizing the Steam API, there are numerous potential avenues to explore, thanks to the variety of endpoints and the abundance of publicly available data related to user trends and purchase history on the platform. Basic approaches include pulling achievement data and player statistics for a given game and visualizing them. However, more complex machine learning (ML) applications are also possible, such as anomaly detection, player segmentation, sentiment analysis on game reviews, and more. To keep the scope of this project manageable, I will likely focus on one or two of these aspects for inclusion in my dashboard, while also providing basic game data such as player counts and achievement statistics.\n",
    "\n",
    "Currently, the most exciting potential project path is a recommendation system that would take a user’s Steam ID and generate personalized game recommendations. This would likely be featured on a secondary page alongside a more traditional dashboard. This Machine Learning project would be particularly exciting, as the volume of available data is not a limiting factor. I would likely employ a clustering approach, grouping games similar to those the user already owns to recommend new games for them to play.\n",
    "\n",
    "In addition to this potential ML angle, I will also likely include traditional visualization techniques, such as histograms and plots, to provide a more conventional dashboard experience. Although I haven't finalized the approach, the dashboard will either focus on a per-game or per-user basis. This means that a user would input their Steam ID and see all the games they own, with the ability to click on a specific game to view both global statistics and personalized data related to the input Steam ID."
   ]
  },
  {
   "cell_type": "markdown",
   "id": "5cfb9cc4-b96a-4952-bba0-73650dc7b238",
   "metadata": {},
   "source": [
    "# Challenges"
   ]
  },
  {
   "cell_type": "markdown",
   "id": "92e32f7e-cd4c-46ab-a693-9e3c83e73029",
   "metadata": {},
   "source": [
    "I am confident that the biggest challenge in this project will be handling the large quantity of data available from the Steam API. With thousands, if not hundreds of thousands, of games and an even larger number of users, efficiently accessing the API and saving that data to a local database could be both difficult and time-consuming. However, this is primarily an issue in the context of machine learning. I will likely develop a hybrid approach, combining real-time API access with pre-loaded database information, depending on the scale of the data.\n",
    "\n",
    "For example, if the data is lightweight, such as basic user information, I will probably hit the API in real time rather than attempt to store a record for every Steam user—something I am confident would be impossible. While it might be feasible to save data for every game or a large portion of games, doing so for all users is not realistic.\n",
    "\n",
    "If these ambitious machine learning goals prove to be unworkable due to the data's scale, I will likely pivot to more traditional analytical methods, focusing on exploring and explaining the available API data. This would involve enabling searches for both specific games and users, with visualizations and plots to describe relevant statistics. Ultimately, I hope to create a dashboard with two key sections: one for searching and displaying global game data, and another for exploring Steam user-specific data, both of which will include informative visualizations."
   ]
  },
  {
   "cell_type": "markdown",
   "id": "d35bacf0-a800-4474-9fd7-77eeb7820bb7",
   "metadata": {},
   "source": [
    "# Gen AI"
   ]
  },
  {
   "cell_type": "markdown",
   "id": "d837413e-c950-46c6-b271-5bf8a574f511",
   "metadata": {},
   "source": [
    " I used GEN AI like ChatGPT for informational purposes like explaining the Steam API endpoints and helping me debug my GET requests."
   ]
  }
 ],
 "metadata": {
  "kernelspec": {
   "display_name": "Python 3 (ipykernel)",
   "language": "python",
   "name": "python3"
  },
  "language_info": {
   "codemirror_mode": {
    "name": "ipython",
    "version": 3
   },
   "file_extension": ".py",
   "mimetype": "text/x-python",
   "name": "python",
   "nbconvert_exporter": "python",
   "pygments_lexer": "ipython3",
   "version": "3.10.13"
  }
 },
 "nbformat": 4,
 "nbformat_minor": 5
}
