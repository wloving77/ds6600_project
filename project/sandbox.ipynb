{
 "cells": [
  {
   "cell_type": "code",
   "execution_count": 21,
   "id": "9cf49c87-dae1-4b7b-afee-fa93edc95fc5",
   "metadata": {},
   "outputs": [
    {
     "data": {
      "text/plain": [
       "<module 'helpers.mysql_helper' from '/Users/williamloving/Documents/Githubs/ds6600_project/project/helpers/mysql_helper.py'>"
      ]
     },
     "execution_count": 21,
     "metadata": {},
     "output_type": "execute_result"
    }
   ],
   "source": [
    "import pandas as pd\n",
    "from helpers import steam_api_helper, mysql_helper\n",
    "import importlib\n",
    "importlib.reload(steam_api_helper)\n",
    "importlib.reload(mysql_helper)"
   ]
  },
  {
   "cell_type": "code",
   "execution_count": 22,
   "id": "4b8aa0c0-3f79-4c5c-8647-cadfee1af232",
   "metadata": {},
   "outputs": [],
   "source": [
    "steam_helper = steam_api_helper.APIHelper()\n",
    "mysql_helper = mysql_helper.MySQLHelper()"
   ]
  },
  {
   "cell_type": "code",
   "execution_count": 24,
   "id": "e3e5097e",
   "metadata": {},
   "outputs": [
    {
     "name": "stdout",
     "output_type": "stream",
     "text": [
      "Connection is already open.\n",
      "Connection closed.\n"
     ]
    }
   ],
   "source": [
    "mysql_helper.connect()\n",
    "mysql_helper.close()"
   ]
  },
  {
   "cell_type": "code",
   "execution_count": 17,
   "id": "23315325",
   "metadata": {},
   "outputs": [
    {
     "data": {
      "text/plain": [
       "[{'display_name': 'MegaMigit75',\n",
       "  'profile_url': 'https://steamcommunity.com/id/megamigit75'}]"
      ]
     },
     "execution_count": 17,
     "metadata": {},
     "output_type": "execute_result"
    }
   ],
   "source": [
    "steam_helper.searchSteamDisplayNames(\"MegaMigit75\")"
   ]
  },
  {
   "cell_type": "code",
   "execution_count": 33,
   "id": "720002e0",
   "metadata": {},
   "outputs": [
    {
     "data": {
      "text/plain": [
       "224004"
      ]
     },
     "execution_count": 33,
     "metadata": {},
     "output_type": "execute_result"
    }
   ],
   "source": [
    "games = steam_helper.getAllSteamApps()\n",
    "len(games)"
   ]
  },
  {
   "cell_type": "code",
   "execution_count": null,
   "id": "3974d532",
   "metadata": {},
   "outputs": [],
   "source": []
  }
 ],
 "metadata": {
  "kernelspec": {
   "display_name": "env",
   "language": "python",
   "name": "python3"
  },
  "language_info": {
   "codemirror_mode": {
    "name": "ipython",
    "version": 3
   },
   "file_extension": ".py",
   "mimetype": "text/x-python",
   "name": "python",
   "nbconvert_exporter": "python",
   "pygments_lexer": "ipython3",
   "version": "3.9.6"
  }
 },
 "nbformat": 4,
 "nbformat_minor": 5
}
