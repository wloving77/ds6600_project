{
 "cells": [
  {
   "cell_type": "code",
   "execution_count": 12,
   "id": "9cf49c87-dae1-4b7b-afee-fa93edc95fc5",
   "metadata": {},
   "outputs": [
    {
     "name": "stdout",
     "output_type": "stream",
     "text": [
      "No connection to close.\n"
     ]
    },
    {
     "data": {
      "text/plain": [
       "<module 'helpers.mysql_helper' from '/Users/williamloving/Documents/Githubs/ds6600_project/project/helpers/mysql_helper.py'>"
      ]
     },
     "execution_count": 12,
     "metadata": {},
     "output_type": "execute_result"
    }
   ],
   "source": [
    "import pandas as pd\n",
    "from helpers import steam_api_helper, mysql_helper\n",
    "import importlib\n",
    "importlib.reload(steam_api_helper)\n",
    "importlib.reload(mysql_helper)"
   ]
  },
  {
   "cell_type": "code",
   "execution_count": 13,
   "id": "4b8aa0c0-3f79-4c5c-8647-cadfee1af232",
   "metadata": {},
   "outputs": [],
   "source": [
    "steam_helper = steam_api_helper.APIHelper()\n",
    "mysql_helper = mysql_helper.MySQLHelper()"
   ]
  },
  {
   "cell_type": "code",
   "execution_count": 3,
   "id": "e3e5097e",
   "metadata": {},
   "outputs": [
    {
     "name": "stdout",
     "output_type": "stream",
     "text": [
      "Connected to MySQL database.\n",
      "Connection closed.\n"
     ]
    }
   ],
   "source": [
    "mysql_helper.connect()\n",
    "mysql_helper.close()"
   ]
  },
  {
   "cell_type": "code",
   "execution_count": 4,
   "id": "23315325",
   "metadata": {},
   "outputs": [
    {
     "data": {
      "text/plain": [
       "[{'display_name': 'MegaMigit75',\n",
       "  'profile_url': 'https://steamcommunity.com/id/megamigit75'}]"
      ]
     },
     "execution_count": 4,
     "metadata": {},
     "output_type": "execute_result"
    }
   ],
   "source": [
    "steam_helper.searchSteamDisplayNames(\"MegaMigit75\")"
   ]
  },
  {
   "cell_type": "code",
   "execution_count": 8,
   "id": "720002e0",
   "metadata": {},
   "outputs": [
    {
     "data": {
      "text/plain": [
       "{'type': 'app',\n",
       " 'name': 'Warhammer 40,000: Space Marine 2',\n",
       " 'id': 2183900,\n",
       " 'price': {'currency': 'USD', 'initial': 5999, 'final': 4799},\n",
       " 'tiny_image': 'https://shared.akamai.steamstatic.com/store_item_assets/steam/apps/2183900/capsule_231x87.jpg?t=1732028471',\n",
       " 'metascore': '82',\n",
       " 'platforms': {'windows': True, 'mac': False, 'linux': False},\n",
       " 'streamingvideo': False,\n",
       " 'controller_support': 'full'}"
      ]
     },
     "execution_count": 8,
     "metadata": {},
     "output_type": "execute_result"
    }
   ],
   "source": [
    "game = steam_helper.searchSteamApps(\"Warhammer 40000: Space Marine 2\")[0]\n",
    "game"
   ]
  },
  {
   "cell_type": "code",
   "execution_count": 14,
   "id": "fe3452c2",
   "metadata": {},
   "outputs": [
    {
     "data": {
      "text/plain": [
       "{'game_title': 'Warhammer 40,000: Space Marine 2',\n",
       " 'app_id': 2183900,\n",
       " 'current_player_count': 7149}"
      ]
     },
     "execution_count": 14,
     "metadata": {},
     "output_type": "execute_result"
    }
   ],
   "source": [
    "steam_helper.getGamePlayerCount(game[\"name\"])"
   ]
  },
  {
   "cell_type": "code",
   "execution_count": 9,
   "id": "3974d532",
   "metadata": {},
   "outputs": [
    {
     "data": {
      "text/plain": [
       "{'game_title': 'Warhammer 40,000: Space Marine 2',\n",
       " 'app_id': 2183900,\n",
       " 'achievements': [{'name': 'STORY_INTRO', 'percent': 93.80000305175781},\n",
       "  {'name': 'STORY_CANNON', 'percent': 82.80000305175781},\n",
       "  {'name': 'STORY_ASSASSINATION', 'percent': 73},\n",
       "  {'name': 'KILLS_BY_TRAPS', 'percent': 68.0999984741211},\n",
       "  {'name': 'STORY_SKYLAB', 'percent': 66.69999694824219},\n",
       "  {'name': 'STORY_RESCUE', 'percent': 62.599998474121094},\n",
       "  {'name': 'PVE_ACID_BOMB', 'percent': 59.900001525878906},\n",
       "  {'name': 'STORY_TOWER', 'percent': 59},\n",
       "  {'name': 'CHAPLAIN_INSTRUCTIONS', 'percent': 57.599998474121094},\n",
       "  {'name': 'STORY_BLACKSTONE', 'percent': 54.20000076293945},\n",
       "  {'name': 'STORY_LAST_STAND', 'percent': 53.70000076293945},\n",
       "  {'name': 'STORY_FINALE', 'percent': 52.900001525878906},\n",
       "  {'name': 'PVE_TYRANT', 'percent': 50},\n",
       "  {'name': 'RAVENER_CANCEL_GRAB', 'percent': 46.20000076293945},\n",
       "  {'name': 'PVE_DAEMONHOST', 'percent': 45.099998474121094},\n",
       "  {'name': 'KILLS_ALERT', 'percent': 43.5},\n",
       "  {'name': 'PVE_TYRANID_KILLS', 'percent': 40.900001525878906},\n",
       "  {'name': 'FINISHERS', 'percent': 40.20000076293945},\n",
       "  {'name': 'PVE_FIRESTORM', 'percent': 39.400001525878906},\n",
       "  {'name': 'PVE_ANCIENT_WEAPON', 'percent': 37.5},\n",
       "  {'name': 'KILLS_IN_FURY', 'percent': 37},\n",
       "  {'name': 'PVE_TRAIN', 'percent': 36.79999923706055},\n",
       "  {'name': 'PVP_WIN', 'percent': 27.5},\n",
       "  {'name': 'PVE_PICKUPS', 'percent': 26.799999237060547},\n",
       "  {'name': 'PVE_CHAOS_KILLS', 'percent': 25.299999237060547},\n",
       "  {'name': 'PVE_FULL_ARMOR', 'percent': 24.700000762939453},\n",
       "  {'name': 'ATTACK_LICTOR', 'percent': 24.5},\n",
       "  {'name': 'KILL_LESSER_SOURCERER', 'percent': 23.600000381469727},\n",
       "  {'name': 'PVE_RUTHLESS', 'percent': 18.600000381469727},\n",
       "  {'name': 'PVP_KILLS', 'percent': 16.799999237060547},\n",
       "  {'name': 'SUPPORT_KILLS', 'percent': 16.600000381469727},\n",
       "  {'name': 'PVE_MAX_LEVEL', 'percent': 13.899999618530273},\n",
       "  {'name': 'SNIPER_HEADSHOTS', 'percent': 13.699999809265137},\n",
       "  {'name': 'PVE_MAX_FIREARM', 'percent': 12.699999809265137},\n",
       "  {'name': 'RAIDER_GROUNDPOUND', 'percent': 11.5},\n",
       "  {'name': 'TOTAL_KILLS_SILVER', 'percent': 10.699999809265137},\n",
       "  {'name': 'PVE_MAX_MELEE', 'percent': 10.5},\n",
       "  {'name': 'PERFECT_PARRY', 'percent': 10.199999809265137},\n",
       "  {'name': 'PVP_DEATHMATCH', 'percent': 9.699999809265137},\n",
       "  {'name': 'BERSERK_GUNSTRIKES', 'percent': 8.399999618530273},\n",
       "  {'name': 'PVP_KOH', 'percent': 7},\n",
       "  {'name': 'PVP_DOMINATION', 'percent': 6.099999904632568},\n",
       "  {'name': 'TANK_KILLS', 'percent': 5.900000095367432},\n",
       "  {'name': 'STORY_ORBITAL_DROP', 'percent': 4.300000190734863},\n",
       "  {'name': 'TOTAL_KILLS', 'percent': 3.700000047683716},\n",
       "  {'name': 'PVP_WIN_CLASSES', 'percent': 2.9000000953674316},\n",
       "  {'name': 'SOLDIER_KILLS', 'percent': 1.7999999523162842},\n",
       "  {'name': 'DATASLATES', 'percent': 1.399999976158142},\n",
       "  {'name': 'MARKING_TOOL', 'percent': 1.2999999523162842},\n",
       "  {'name': 'ALL_ACHIEVEMENTS', 'percent': 0.5}]}"
      ]
     },
     "execution_count": 9,
     "metadata": {},
     "output_type": "execute_result"
    }
   ],
   "source": [
    "steam_helper.getGameAchievementData(game[\"id\"], game[\"name\"])"
   ]
  },
  {
   "cell_type": "code",
   "execution_count": 10,
   "id": "03746b50",
   "metadata": {},
   "outputs": [
    {
     "data": {
      "text/plain": [
       "{'game_title': 'Warhammer 40,000: Space Marine 2',\n",
       " 'app_id': 2183900,\n",
       " 'news': [{'title': 'Steam Global Top Sellers for week of 26 Nov — 3 December 2024',\n",
       "   'contents': '<a href=\"https://steamdb.info/topsellers/2024W49/?utm_source=Steam&utm_medium=Steam&utm_campaign=SteamRSS\"><img src=\"https://steamdb.info/topsellers/2024W49.png\"></a><ol><li><a href=\"https://steamdb.info/app/1675200/charts/?utm_source=Steam&utm_medium=Steam&utm_campaign=SteamRSS\">Steam Deck</a></li><li><a href=\"https://steamdb.info/app/1091500/charts/?utm_source=Steam&utm_medium=Steam&utm_campaign=SteamRSS\">Cyberpunk 2077</a></li><li><a href=\"https://steamdb.info/app/2933620/charts/?utm_source=Steam&utm_medium=Steam&utm_campaign=SteamRSS\">Call of Duty®: Black Ops 6</a></li><li><a href=\"https://steamdb.info/app/1086940/charts/?utm_source=Steam&utm_medium=Steam&utm_campaign=SteamRSS\">Baldur\\'s Gate 3</a></li><li><a href=\"https://steamdb.info/app/2669320/charts/?utm_source=Steam&utm_medium=Steam&utm_campaign=SteamRSS\">EA SPORTS FC™ 25</a></li><li><a href=\"https://steamdb.info/app/1643320/charts/?utm_source=Steam&utm_medium=Steam&utm_campaign=SteamRSS\">S.T.A.L.K.E.R. 2: Heart of Chornobyl</a></li><li><a href=\"https://steamdb.info/app/1174180/charts/?utm_source=Steam&utm_medium=Steam&utm_campaign=SteamRSS\">Red Dead Redemption 2</a></li><li><a href=\"https://steamdb.info/app/2183900/charts/?utm_source=Steam&utm_medium=Steam&utm_campaign=SteamRSS\">Warhammer 40,000: Space Marine 2</a></li><li><a href=\"https://steamdb.info/app/812140/charts/?utm_source=Steam&utm_medium=Steam&utm_campaign=SteamRSS\">Assassin\\'s Creed® Odyssey</a></li><li><a href=\"https://steamdb.info/app/990080/charts/?utm_source=Steam&utm_medium=Steam&utm_campaign=SteamRSS\">Hogwarts Legacy</a></li></ol><br><i>* excluding free to play games</i><br><a href=\"https://steamdb.info/topsellers/2024W49/?utm_source=Steam&utm_medium=Steam&utm_campaign=SteamRSS\">View top 100 on SteamDB</a>',\n",
       "   'url': 'https://steamstore-a.akamaihd.net/news/externalpost/SteamDB/1784506359170603',\n",
       "   'date': 1733216400},\n",
       "  {'title': \"Don't miss your chance to get Space Marine 2 for less than $5\",\n",
       "   'contents': '<img width=\"900\" height=\"507\" src=\"https://www.pcgamesn.com/wp-content/sites/pcgamesn/2024/12/space-marine-2-resized-again--900x506.jpg\"/><p><strong>Warhammer 40,000: Space Marine 2</strong> is one of the games that you might get if you purchase the Fanatical VIP Mystery Bundle. Sure, there\\'s an element of luck involved, but you pay $4.99 / £4.99 and get three random games with a guaranteed minimum value of $25 / £25. In addition to Space Marine 2, the Silent Hill 2 remake and Frostpunk 2 are a couple of the other exciting possibilities.</p>\\n<p><a href=\"https://www.pcgamesn.com/warhammer-40k-space-marine-2/fanatical-vip-mystery-bundle\">Read the rest of the story...</a></p>\\n<p>RELATED LINKS:<br />\\n<a href=\"https://www.pcgamesn.com/warhammer-40k-space-marine-2/update-5-operation-obelisk\">Space Marine 2 update 5 to add a new operation parallel to the campaign finale</a><br />\\n<a href=\"https://www.pcgamesn.com/warhammer-40k-space-marine-2/dlss-fsr-frame-generation-announced\">Space Marine 2 performance is about to take a huge leap on Nvidia and AMD GPUs</a><br />\\n<a href=\"https://www.pcgamesn.com/warhammer-40k-space-marine-2/mods-online\">Space Marine 2 is banning mods from most online play, but there\\'s good news too</a></p>',\n",
       "   'url': 'https://steamstore-a.akamaihd.net/news/externalpost/PCGamesN/1784506359148407',\n",
       "   'date': 1733156314},\n",
       "  {'title': 'Space Marine 2 update 5 to add a new operation parallel to the campaign finale',\n",
       "   'contents': '<img width=\"900\" height=\"507\" src=\"https://www.pcgamesn.com/wp-content/sites/pcgamesn/2024/11/warhammer-40k-space-marine-2-update-5-0-new-cosmetics-operation-obelisk-dark-angels-900x506.jpg\"/><p>It\\'s been a great year for glorious, chaos-filled co-op games, with <strong>Space Marine 2</strong> following in the footsteps of Helldivers 2 to unleash a barrage of bug-blasting business upon us all. It quickly earned itself a place among the best Warhammer 40k games, and developer Saber Interactive has continued to push updates and additions since launch. Its latest such instalment is due in the next couple of weeks, and it\\'s looking packed. Set for \"the first half of December,\" Space Marine 2 update 5.0 will bring the long-awaited Dark Angels Chapter Pack to the game alongside a new operation and an essential customization upgrade.</p>\\n<p><a href=\"https://www.pcgamesn.com/warhammer-40k-space-marine-2/update-5-operation-obelisk\">Read the rest of the story...</a></p>\\n<p>RELATED LINKS:<br />\\n<a href=\"https://www.pcgamesn.com/warhammer-40k-space-marine-2/dlss-fsr-frame-generation-announced\">Space Marine 2 performance is about to take a huge leap on Nvidia and AMD GPUs</a><br />\\n<a href=\"https://www.pcgamesn.com/warhammer-40k-space-marine-2/mods-online\">Space Marine 2 is banning mods from most online play, but there\\'s good news too</a><br />\\n<a href=\"https://www.pcgamesn.com/warhammer-40k-space-marine-2/mods\">The best Space Marine 2 mods 2024</a></p>',\n",
       "   'url': 'https://steamstore-a.akamaihd.net/news/externalpost/PCGamesN/1784506359052566',\n",
       "   'date': 1732898240},\n",
       "  {'title': 'Space Marine 2 performance is about to take a huge leap on Nvidia and AMD GPUs',\n",
       "   'contents': '<img width=\"900\" height=\"507\" src=\"https://www.pcgamesn.com/wp-content/sites/pcgamesn/2024/11/space-marine-2-ss-900x506.jpg\"/><p>This year\\'s surprise mega-hit, Warhammer 40K: <strong>Space Marine 2</strong>, is getting a patch that should improve performance on every level of PC. The game\\'s developer has confirmed that Patch 5.0 will not only add support for frame generation on Nvidia GeForce GPUs, but also AMD Radeon graphics cards.</p>\\n<p>Frame generation tech works by inserting extra frames between the frames rendered by your GPU, smoothing out the frame rate. In this case, the Xenos-smashing epic will get frame generation from both Nvidia and AMD. <a href=\"https://www.pcgamesn.com/nvidia/dlss-graphics\">Nvidia DLSS</a> will only work on the company\\'s graphics cards, but AMD\\'s FSR tech will work on practically any current GPU. As such, you can also expect to see some of the <a href=\"https://www.pcgamesn.com/best-handheld-gaming-pc\">best gaming handhelds</a> getting a big boost in <a href=\"https://www.pcgamesn.com/warhammer-40k-space-marine-2\">Space Marine 2</a> performance.</p>\\n<p><a href=\"https://www.pcgamesn.com/warhammer-40k-space-marine-2/dlss-fsr-frame-generation-announced\">Read the rest of the story...</a></p>\\n<p>RELATED LINKS:<br />\\n<a href=\"https://www.pcgamesn.com/amd/asus-ryzen-9000-X3D-leak\">Asus hints at \"more powerful\" AMD Ryzen gaming CPU arriving in just a few weeks</a><br />\\n<a href=\"https://www.pcgamesn.com/amd/overclock-amd-ryzen-7-9800x3d-guide\">How to overclock your AMD Ryzen 7 9800X3D: Make your gaming CPU faster for free</a><br />\\n<a href=\"https://www.pcgamesn.com/gigabyte/aorus-elite-x870-wifi7-ice-review\">Gigabyte Aorus Elite X870 WiFi7 Ice review: A brilliant white motherboard</a></p>',\n",
       "   'url': 'https://steamstore-a.akamaihd.net/news/externalpost/PCGamesN/1784506359050213',\n",
       "   'date': 1732894391},\n",
       "  {'title': 'November Community Update',\n",
       "   'contents': '[h2]\\u200b\\u200bGreetings Space Marines![/h2]\\n\\nThe end of the year is approaching, to celebrate this wonderful year that has brought so much joy to us and to the players, we have a few surprises for you! ⭐\\n\\n[h3][b]But first, let’s recap the past month a bit![/b] [/h3]\\n\\nOn November 12 we released Patch 4.5. This update was important as it brought a brand new weapon: The Neo-Volkite Pistol, as well as loads of balancing tweaks on several weapons (Plasma Incinerator / Bolt Sniper Rifle / Occulus Bolt Carbine / Bolt Carbine (SMG) / Auto Bolt Rifle). \\n\\nTo read the entire patch note, click [url=https://community.focus-entmt.com/focus-entertainment/space-marine-2/blogs/109-patch-4-5-is-available]here[/url]. \\n\\nHow cool is it? 😎\\n[img]{STEAM_CLAN_IMAGE}/43315296/f182956c202bc3bccf61cc89a68d1560ae830eda.gif[/img]\\n[i]Note that the Neo-Volkite Pistol will be available in PvP starting from the 5.0 update.[/i]\\n\\nAs for every month, we keep reading your feedback closely, and reviewing the ideas submitted onto [url=https://community.focus-entmt.com/focus-entertainment/space-marine-2/ideas/]Focus Together[/url]! There’s more and more each week, which gives us plenty of ideas to work with! We want to thank you for that. We keep reviewing them but it takes time!\\n\\nTo see the answers devs have already provided, check it [b][url=https://community.focus-entmt.com/focus-entertainment/space-marine-2/blogs/84-message-to-the-community-q-a]here[/url][/b]. \\n\\n[h2]WE REACHED 5 MILLION PLAYERS![/h2]\\n\\n5 million Space Marines have joined our ranks to purge Xenos & Chaos! 🎉\\n\\nHuge thanks to everyone who\\'s joined the fight. It’s been incredible to see the community grow (and to keep seeing it grow)! Here’s to many more battles ahead. ⚔️\\n\\n[img]{STEAM_CLAN_IMAGE}/43315296/a26727765eb7835dd67a4402047056ff7717101c.png[/img]\\n\\n[h2]SECRET LEVEL EVENT[/h2]\\n\\nAs you may have seen, the story of Titus continues in Amazon Prime Video’s Secret Level series!\\n\\nA new trailer dropped to tease the upcoming episode.\\n\\n[previewyoutube=YMZffM5bKmg;full][/previewyoutube]\\nThe series will start on December 10. One episode will be fully dedicated to Warhammer 40,000. Stay tuned, it’s gonna be epic! 💥\\n\\n[h2]PATCH 5.0[/h2]\\n\\nThe 5.0 update will be released in the first half of December! This update contains the very much awaited Dark Angels Chapter Pack, alongside another Operation: Obelisk. \\n\\nThe Dark Angels Chapter Pack features the Dark Angels Champion, which is a unique armour set and banner for the Bulwark Class.\\n\\n[img]{STEAM_CLAN_IMAGE}/43315296/39308af705c0b0ffd996813ea1e63517d7240aba.jpg[/img]\\n[i]Please note that this set can’t be customised[/i]\\n\\nThree weapons will also receive exclusive visuals based on the Dark Angels Chapter: the Auto Bolt Rifle, the Plasma Pistol and the Power Sword. The Bulwark class will also get a unique Dark Angels Storm Shield.\\n\\n[img]{STEAM_CLAN_IMAGE}/43315296/172ef8cfa6ebf3ecc4b2dab4ca0b96317548aee4.jpg[/img]\\n\\nThe Dark Angels Chapter Pack includes the heraldry items of the Second Foundings and Successor Chapters of the Dark Angels: the Angels of Absolution, the Angels of Redemption, the Angels of Vengeance, the Unnamed, the Blades of Vengeance, the Cowled Wardens, the Bringers of Judgement and the Angels of Defiance.\\n\\n[img]{STEAM_CLAN_IMAGE}/43315296/213028c7c3da38554a114261beb6f898505316fd.png[/img]\\n\\nNew armour pieces will also be  added, including a fan-favourite helmet: the Mark VIII Ravenwing! All these items will be available to unlock as part of an heraldry cosmetic.\\n\\n[table]\\n[tr]\\n[td][img]{STEAM_CLAN_IMAGE}/43315296/88753ecbf0f7c215104223a1c96567e5e4cf5ad6.jpg[/img][/td]\\n[td][img]{STEAM_CLAN_IMAGE}/43315296/e67c16b96c4959046ba7287f20decb19b6bce8c3.jpg[/img][/td]\\n[/tr]\\n[/table]\\n\\nLast addition to the customisation menu, the colour lenses are finally here! Choose among 15 different colours to customise your Space Marine even more!\\n\\n[img]{STEAM_CLAN_IMAGE}/43315296/d9630bdb7172f9efbf708bc1d3f9751275018435.gif[/img]\\n\\nThis update does not only bring new customisation, a new Operation will also be added! Called “Obelisk”, you’ll be sent to Demerium and your mission is to rotate a replica of the obelisk to disrupt the flow of energy protecting the Aurora device. This operation takes place in parallel to the final events of the campaign.\\n\\nTo reach the console control of the obelisk, you’ll have to make it through a tomb plunged into darkness. To make your progression even tougher, the Chaos forces see a new addition to their roster: the Tzaangor Enlightened, a new Majoris enemy! They will now appear in every PvE Operation with Chaos.\\n\\nFinally, on the tech side, [b]the 5.0 update will bring FSR3 support, and Frame Generation for both DLSS3 and FSR3.[/b]\\n\\n\\n[h2]AWARD NOMINATIONS[/h2]\\n\\n[i]Space Marine 2[/i] has been nominated in 2 categories at The Game Awards!\\n\\nYou can show your support and vote for us as [url=https://www.thegameawards.com/nominees/best-multiplayer]Best Multiplayer Game[/url] and [url=https://www.thegameawards.com/nominees/best-action]Best Action Game[/url]!\\n\\nAlso, we\\'re so glad to announce that [i]Space Marine 2[/i] has been nominated for the Steam Awards in the \"Game Of The Year\" category! ⚔️You can vote [b][url=https://store.steampowered.com/news/app/2183900/view/4464851103138185238]here[/url][/b].\\n\\n[img]{STEAM_CLAN_IMAGE}/43315296/20277988624c0024db09d909f106d17100c7d3d7.jpg[/img]\\n[table]\\n[tr]\\n[td][img]{STEAM_CLAN_IMAGE}/43315296/19bac84722b4fd32d8fb4d2dd04526fd9abbeac5.jpg[/img][/td]\\n[td][img]{STEAM_CLAN_IMAGE}/43315296/55ade687a4f3888925d33d23c21db5275e32c40f.jpg[/img][/td]\\n[/tr]\\n[/table]\\n\\n[h2]FANART CONTEST WINNER[/h2]\\n\\nHuge congrats to [url=https://x.com/mendeswithans/status/1861913056604799327/photo/1]@MendesWithAnS[/url] for winning the [i]Space Marine 2[/i] fan art contest! Your work left us in awe! It really captures the essence of the Warhammer universe. This win is well-deserved, Brother! \\U0001fae1\\n\\n[img]{STEAM_CLAN_IMAGE}/43315296/0e19ba47b6ef5ee9c7842ef2bdf63adf3b601f34.jpg[/img]\\n\\n[h2]Mod Support - A Message From the Game Director[/h2]\\n\\nIn case you missed it, our Game Director expressed himself on the mod support on [i]Space Marine 2[/i]. You’ll find the complete message [b][url=https://community.focus-entmt.com/focus-entertainment/space-marine-2/blogs/114-mod-support-a-message-from-the-game-director]here[/url][/b]. In short, starting from the next update, mods will no longer be available in public PvE sessions, but will remain the private ones. \\n\\n\\nThat’s it for this month! Thanks again for sticking with us. See you again in December! ⚔️\\n\\nThe Emperor protects.\\n\\n[i]The Focus and Saber teams[/i]',\n",
       "   'url': 'https://steamstore-a.akamaihd.net/news/externalpost/steam_community_announcements/1784506359020157',\n",
       "   'date': 1732815434}]}"
      ]
     },
     "execution_count": 10,
     "metadata": {},
     "output_type": "execute_result"
    }
   ],
   "source": [
    "steam_helper.getGameNews(game[\"id\"], game[\"name\"])"
   ]
  },
  {
   "cell_type": "code",
   "execution_count": null,
   "id": "d7fe364f",
   "metadata": {},
   "outputs": [],
   "source": []
  }
 ],
 "metadata": {
  "kernelspec": {
   "display_name": "env",
   "language": "python",
   "name": "python3"
  },
  "language_info": {
   "codemirror_mode": {
    "name": "ipython",
    "version": 3
   },
   "file_extension": ".py",
   "mimetype": "text/x-python",
   "name": "python",
   "nbconvert_exporter": "python",
   "pygments_lexer": "ipython3",
   "version": "3.9.6"
  }
 },
 "nbformat": 4,
 "nbformat_minor": 5
}
