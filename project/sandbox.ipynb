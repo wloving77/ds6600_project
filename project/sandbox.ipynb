{
 "cells": [
  {
   "cell_type": "code",
   "execution_count": 177,
   "id": "9cf49c87-dae1-4b7b-afee-fa93edc95fc5",
   "metadata": {},
   "outputs": [
    {
     "data": {
      "text/plain": [
       "<module 'helpers.steam_api_helper' from '/home/wloving77/Githubs/school/ds6600_project/project/helpers/steam_api_helper.py'>"
      ]
     },
     "execution_count": 177,
     "metadata": {},
     "output_type": "execute_result"
    }
   ],
   "source": [
    "import pandas as pd\n",
    "import helpers.steam_api_helper as API\n",
    "import importlib\n",
    "importlib.reload(API)"
   ]
  },
  {
   "cell_type": "code",
   "execution_count": 178,
   "id": "4b8aa0c0-3f79-4c5c-8647-cadfee1af232",
   "metadata": {},
   "outputs": [],
   "source": [
    "api = API.APIHelper()"
   ]
  },
  {
   "cell_type": "code",
   "execution_count": 171,
   "id": "1c3b4d3f",
   "metadata": {},
   "outputs": [],
   "source": [
    "me = api.searchSteamDisplayNames(\"MegaMigit75\")\n",
    "my_vanity = me[0]['profile_url'].split(\"id/\")[1]\n",
    "my_steamid = api.getSteamIDFromVanity(my_vanity, api.steam_key)"
   ]
  },
  {
   "cell_type": "code",
   "execution_count": 175,
   "id": "1f5525eb",
   "metadata": {},
   "outputs": [],
   "source": [
    "game_info = api.searchSteamApps(\"Warhammer 40,000: Space Marine 2\")\n",
    "game = game_info[0]"
   ]
  },
  {
   "cell_type": "code",
   "execution_count": 179,
   "id": "f5e3e75e",
   "metadata": {},
   "outputs": [
    {
     "data": {
      "text/plain": [
       "{'game_title': 'Warhammer 40,000: Space Marine 2',\n",
       " 'app_id': 2183900,\n",
       " 'player_stats': [{'name': 'STAT_MARKING_TOOL', 'value': 13},\n",
       "  {'name': 'STAT_FINISHERS', 'value': 50},\n",
       "  {'name': 'STAT_DATASLATES', 'value': 33},\n",
       "  {'name': 'STAT_KILLS_IN_FURY', 'value': 100},\n",
       "  {'name': 'STAT_PICKUPS', 'value': 200},\n",
       "  {'name': 'STAT_TOTAL_KILLS_SILVER', 'value': 20000},\n",
       "  {'name': 'STAT_SOLDIER_KILLS', 'value': 124},\n",
       "  {'name': 'STAT_RAIDER_GROUNDPOUND', 'value': 462},\n",
       "  {'name': 'STAT_TANK_KILLS', 'value': 64},\n",
       "  {'name': 'STAT_BERSERK_GUNSTRIKES', 'value': 100},\n",
       "  {'name': 'STAT_KILLS_BY_TRAPS', 'value': 100},\n",
       "  {'name': 'STAT_KILLS_ALERT', 'value': 5},\n",
       "  {'name': 'STAT_PVE_TYRANID_KILLS', 'value': 1000},\n",
       "  {'name': 'STAT_PVE_CHAOS_KILLS', 'value': 1000},\n",
       "  {'name': 'STAT_TOTAL_KILLS', 'value': 31519}],\n",
       " 'playtime_minutes': 8090}"
      ]
     },
     "execution_count": 179,
     "metadata": {},
     "output_type": "execute_result"
    }
   ],
   "source": [
    "api.getUserGameStats(my_steamid, game[\"id\"], game[\"name\"])"
   ]
  },
  {
   "cell_type": "code",
   "execution_count": null,
   "id": "08d82115",
   "metadata": {},
   "outputs": [],
   "source": []
  }
 ],
 "metadata": {
  "kernelspec": {
   "display_name": "env",
   "language": "python",
   "name": "python3"
  },
  "language_info": {
   "codemirror_mode": {
    "name": "ipython",
    "version": 3
   },
   "file_extension": ".py",
   "mimetype": "text/x-python",
   "name": "python",
   "nbconvert_exporter": "python",
   "pygments_lexer": "ipython3",
   "version": "3.10.12"
  }
 },
 "nbformat": 4,
 "nbformat_minor": 5
}
