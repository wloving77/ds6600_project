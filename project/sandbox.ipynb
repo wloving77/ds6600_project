{
 "cells": [
  {
   "cell_type": "code",
   "execution_count": 1,
   "id": "9cf49c87-dae1-4b7b-afee-fa93edc95fc5",
   "metadata": {},
   "outputs": [
    {
     "data": {
      "text/plain": [
       "<module 'helpers.mysql_helper' from '/home/wloving77/Githubs/school/ds6600_project/project/helpers/mysql_helper.py'>"
      ]
     },
     "execution_count": 1,
     "metadata": {},
     "output_type": "execute_result"
    }
   ],
   "source": [
    "import pandas as pd\n",
    "from helpers import steam_api_helper, mysql_helper\n",
    "import importlib\n",
    "importlib.reload(steam_api_helper)\n",
    "importlib.reload(mysql_helper)"
   ]
  },
  {
   "cell_type": "code",
   "execution_count": null,
   "id": "4b8aa0c0-3f79-4c5c-8647-cadfee1af232",
   "metadata": {},
   "outputs": [
    {
     "name": "stdout",
     "output_type": "stream",
     "text": [
      "No connection to close.\n"
     ]
    }
   ],
   "source": [
    "steam_helper = steam_api_helper.APIHelper()\n",
    "mysql_helper = mysql_helper.MySQLHelper()"
   ]
  },
  {
   "cell_type": "code",
   "execution_count": 10,
   "id": "e3e5097e",
   "metadata": {},
   "outputs": [
    {
     "ename": "AttributeError",
     "evalue": "module 'helpers.mysql_helper' has no attribute 'connect'",
     "output_type": "error",
     "traceback": [
      "\u001b[0;31m---------------------------------------------------------------------------\u001b[0m",
      "\u001b[0;31mAttributeError\u001b[0m                            Traceback (most recent call last)",
      "Cell \u001b[0;32mIn[10], line 1\u001b[0m\n\u001b[0;32m----> 1\u001b[0m \u001b[43mmysql_helper\u001b[49m\u001b[38;5;241;43m.\u001b[39;49m\u001b[43mconnect\u001b[49m()\n",
      "\u001b[0;31mAttributeError\u001b[0m: module 'helpers.mysql_helper' has no attribute 'connect'"
     ]
    }
   ],
   "source": [
    "mysql_helper.connect()"
   ]
  },
  {
   "cell_type": "code",
   "execution_count": 6,
   "id": "23315325",
   "metadata": {},
   "outputs": [
    {
     "data": {
      "text/plain": [
       "'localhost         # Maps to self.host'"
      ]
     },
     "execution_count": 6,
     "metadata": {},
     "output_type": "execute_result"
    }
   ],
   "source": [
    "pg_helper.host"
   ]
  },
  {
   "cell_type": "code",
   "execution_count": null,
   "id": "720002e0",
   "metadata": {},
   "outputs": [],
   "source": []
  }
 ],
 "metadata": {
  "kernelspec": {
   "display_name": "env",
   "language": "python",
   "name": "python3"
  },
  "language_info": {
   "codemirror_mode": {
    "name": "ipython",
    "version": 3
   },
   "file_extension": ".py",
   "mimetype": "text/x-python",
   "name": "python",
   "nbconvert_exporter": "python",
   "pygments_lexer": "ipython3",
   "version": "3.10.12"
  }
 },
 "nbformat": 4,
 "nbformat_minor": 5
}
